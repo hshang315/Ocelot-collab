{
  "nbformat": 4,
  "nbformat_minor": 0,
  "metadata": {
    "colab": {
      "name": "Untitled5.ipynb",
      "provenance": [],
      "include_colab_link": true
    },
    "kernelspec": {
      "name": "python3",
      "display_name": "Python 3"
    }
  },
  "cells": [
    {
      "cell_type": "markdown",
      "metadata": {
        "id": "view-in-github",
        "colab_type": "text"
      },
      "source": [
        "<a href=\"https://colab.research.google.com/github/hshang315/Ocelot-collab/blob/master/skgp_trainer.ipynb\" target=\"_parent\"><img src=\"https://colab.research.google.com/assets/colab-badge.svg\" alt=\"Open In Colab\"/></a>"
      ]
    },
    {
      "cell_type": "code",
      "metadata": {
        "id": "3d0sta58mtJe",
        "colab_type": "code",
        "colab": {}
      },
      "source": [
        "from __future__ import absolute_import\n",
        "from __future__ import division\n",
        "from __future__ import print_function\n",
        "\n",
        "import matplotlib.pyplot as plt\n",
        "import numpy as np\n",
        "import pandas as pd\n",
        "import tensorflow as tf\n",
        "import time\n",
        "import seaborn as sns\n",
        "import os\n",
        "import h5py as h5\n",
        "import pickle \n",
        "# plt.style.use('ggplot')\n",
        "\n",
        "qe= 1.60217662*pow(10, -7) # [pC]\n",
        "\n",
        "# enlarge fonts\n",
        "plt.rcParams.update({'font.size': 16})\n",
        "\n",
        "# import matplotlib\n",
        "# font = {'family' : 'normal',\n",
        "# #         'weight' : 'bold',\n",
        "#         'size'   : 14}\n",
        "# matplotlib.rc('font', **font)\n",
        "print(tf.__version__)"
      ],
      "execution_count": 0,
      "outputs": []
    }
  ]
}